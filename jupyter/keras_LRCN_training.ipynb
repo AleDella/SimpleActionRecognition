{
 "cells": [
  {
   "cell_type": "code",
   "execution_count": 1,
   "id": "b3ac81e5",
   "metadata": {},
   "outputs": [],
   "source": [
    "import os\n",
    "import cv2\n",
    "import math\n",
    "import random\n",
    "import numpy as np\n",
    "import matplotlib.pyplot as plt\n",
    "\n",
    "import tensorflow as tf\n",
    "from sklearn.model_selection import train_test_split\n",
    "from tensorflow.keras.layers import *\n",
    "from tensorflow.keras.models import Sequential\n",
    "from tensorflow.keras.utils import to_categorical, plot_model\n",
    "from tensorflow.keras.callbacks import EarlyStopping\n",
    "import tensorflow_hub as hub\n",
    "import seaborn as sns"
   ]
  },
  {
   "cell_type": "code",
   "execution_count": 2,
   "id": "f892b80d",
   "metadata": {},
   "outputs": [],
   "source": [
    "# Set the seeds for reproducibility\n",
    "seed = 2024\n",
    "np.random.seed(seed)\n",
    "random.seed(seed)\n",
    "tf.random.set_seed(seed)"
   ]
  },
  {
   "cell_type": "code",
   "execution_count": 14,
   "id": "9392a764",
   "metadata": {},
   "outputs": [],
   "source": [
    "# Set the height and width for the whole dataset\n",
    "image_width = 224 # pixel\n",
    "image_height = 224 # pixel\n",
    "# Set the maximum sequence length\n",
    "sequence_length = 16 # frames\n",
    "# Dropout value\n",
    "dropout_value = 0.3\n",
    "lstm_cells = 128\n",
    "# Flag to save the model\n",
    "save_flag = False\n",
    "# Dataset directory\n",
    "dataset_dir = 'dataset\\\\ToyDataset'\n",
    "classes = os.listdir(dataset_dir)"
   ]
  },
  {
   "cell_type": "code",
   "execution_count": 4,
   "id": "cf53fa4b",
   "metadata": {},
   "outputs": [],
   "source": [
    "def get_frames(video_path, sequence_length=20, image_width=64, image_height=64):\n",
    "    '''\n",
    "    Function that extracts the frames from the provided videos\n",
    "    \n",
    "    Args:\n",
    "        video_path (str): path to the video\n",
    "        sequence_length (int): length of the sequences of frames\n",
    "        image_width (int): width in pixels\n",
    "        image_height (int): height in pixels\n",
    "    Returns:\n",
    "        frames (list[np.array]): list of frames in the video\n",
    "    '''\n",
    "    \n",
    "    frames = []\n",
    "    \n",
    "    cap = cv2.VideoCapture(video_path)\n",
    "    # Check if caption opened successfully \n",
    "    if (cap.isOpened()== False): \n",
    "        print(f\"Error opening {video_path}!\")\n",
    "    \n",
    "    total_frames = cap.get(cv2.CAP_PROP_FRAME_COUNT)\n",
    "    # Compute the interval for the division of the videos to extract only n frames from the video\n",
    "    frame_window = max(math.floor(total_frames/sequence_length),1)\n",
    "    \n",
    "    for f_idx in range(sequence_length):\n",
    "        # Set the position of the frame we want\n",
    "        cap.set(cv2.CAP_PROP_POS_FRAMES, f_idx*frame_window)\n",
    "        success, frame = cap.read()\n",
    "        if not success:\n",
    "            break\n",
    "        # Frame pre-processing (resizing, normalization)\n",
    "        resized_frame = cv2.resize(frame, (image_height, image_width))\n",
    "        resized_frame = resized_frame/255\n",
    "        \n",
    "        frames.append(resized_frame)\n",
    "    \n",
    "    cap.release()\n",
    "    \n",
    "    return frames"
   ]
  },
  {
   "cell_type": "code",
   "execution_count": 5,
   "id": "2cc2840c",
   "metadata": {},
   "outputs": [],
   "source": [
    "def dataset_extraction(dataset_dir, classes, sequence_length, image_width, image_height):\n",
    "    '''\n",
    "    Function that creates the dataset starting from the data of the toy dataset\n",
    "    \n",
    "    Args:\n",
    "        dataset_dir (str): path to the dataset\n",
    "        classes (list[str]): list of classes which correspond to the folders in the dataset\n",
    "        sequence_length (int): length of the sequences of frames\n",
    "        image_width (int): width in pixels\n",
    "        image_height (int): height in pixels\n",
    "    Returns:\n",
    "        frame_lists (np.array): list of collection of frames\n",
    "        labels (np.array): list of labels for the videos\n",
    "        paths (list): list of filenames of the videos\n",
    "    '''\n",
    "    frame_lists = []\n",
    "    labels = []\n",
    "    paths = []\n",
    "    \n",
    "    for cl_idx, cl in enumerate(classes):\n",
    "        cl_videos = os.listdir(os.path.join(dataset_dir,cl))\n",
    "        for filename in cl_videos:\n",
    "            fullpath = os.path.join(dataset_dir,cl,filename)\n",
    "            frames = get_frames(fullpath, sequence_length, image_width, image_height)\n",
    "            if len(frames) == sequence_length:\n",
    "                frame_lists.append(frames)\n",
    "                labels.append(cl_idx)\n",
    "                paths.append(fullpath)\n",
    "                \n",
    "    frame_lists = np.array(frame_lists)\n",
    "    labels = np.array(labels)\n",
    "    \n",
    "    return frame_lists, labels, paths\n",
    "    "
   ]
  },
  {
   "cell_type": "code",
   "execution_count": 15,
   "id": "c4cd83dd",
   "metadata": {},
   "outputs": [],
   "source": [
    "frame_lists, labels, paths = dataset_extraction(dataset_dir, classes, sequence_length, image_width, image_height)"
   ]
  },
  {
   "cell_type": "code",
   "execution_count": 16,
   "id": "708f1600",
   "metadata": {},
   "outputs": [],
   "source": [
    "# Create one-hot encoding for the labels\n",
    "coded_labels = to_categorical(labels)"
   ]
  },
  {
   "cell_type": "code",
   "execution_count": 17,
   "id": "b40bb0d0",
   "metadata": {},
   "outputs": [],
   "source": [
    "# Divide the dataset into training and test\n",
    "frame_train, frame_test, label_train, label_test = train_test_split(frame_lists, coded_labels, test_size=0.25, shuffle=True, random_state=seed)"
   ]
  },
  {
   "cell_type": "code",
   "execution_count": 18,
   "id": "985a5e72-2bed-4dbd-b25d-4f3bd76e892e",
   "metadata": {},
   "outputs": [],
   "source": [
    "mobilenet_v2 = \"https://tfhub.dev/google/tf2-preview/mobilenet_v2/feature_vector/4\"\n",
    "feature_extractor_model = mobilenet_v2\n",
    "feature_extractor_layer = hub.KerasLayer(\n",
    "    feature_extractor_model,\n",
    "    input_shape=(image_width, image_height, 3),\n",
    "    trainable=False\n",
    ")"
   ]
  },
  {
   "cell_type": "code",
   "execution_count": 11,
   "id": "c5ca5a89-e279-4f9b-9eff-5de45ee3cc8c",
   "metadata": {},
   "outputs": [],
   "source": [
    "time_layer = TimeDistributed(feature_extractor_layer)"
   ]
  },
  {
   "cell_type": "code",
   "execution_count": 19,
   "id": "9a7f78d0-4826-44a2-b4bf-4ef37569d0d1",
   "metadata": {},
   "outputs": [
    {
     "ename": "ValueError",
     "evalue": "Exception encountered when calling layer \"keras_layer_1\" \"                 f\"(type KerasLayer).\n\nCould not find matching concrete function to call loaded from the SavedModel. Got:\n  Positional arguments (4 total):\n    * <tf.Tensor 'inputs:0' shape=(224, 224, 3) dtype=float32>\n    * False\n    * False\n    * 0.99\n  Keyword arguments: {}\n\n Expected these arguments to match one of the following 4 option(s):\n\nOption 1:\n  Positional arguments (4 total):\n    * TensorSpec(shape=(None, 224, 224, 3), dtype=tf.float32, name='inputs')\n    * True\n    * False\n    * TensorSpec(shape=(), dtype=tf.float32, name='batch_norm_momentum')\n  Keyword arguments: {}\n\nOption 2:\n  Positional arguments (4 total):\n    * TensorSpec(shape=(None, 224, 224, 3), dtype=tf.float32, name='inputs')\n    * True\n    * True\n    * TensorSpec(shape=(), dtype=tf.float32, name='batch_norm_momentum')\n  Keyword arguments: {}\n\nOption 3:\n  Positional arguments (4 total):\n    * TensorSpec(shape=(None, 224, 224, 3), dtype=tf.float32, name='inputs')\n    * False\n    * True\n    * TensorSpec(shape=(), dtype=tf.float32, name='batch_norm_momentum')\n  Keyword arguments: {}\n\nOption 4:\n  Positional arguments (4 total):\n    * TensorSpec(shape=(None, 224, 224, 3), dtype=tf.float32, name='inputs')\n    * False\n    * False\n    * TensorSpec(shape=(), dtype=tf.float32, name='batch_norm_momentum')\n  Keyword arguments: {}\n\nCall arguments received by layer \"keras_layer_1\" \"                 f\"(type KerasLayer):\n  • inputs=tf.Tensor(shape=(224, 224, 3), dtype=float32)\n  • training=None",
     "output_type": "error",
     "traceback": [
      "\u001b[1;31m---------------------------------------------------------------------------\u001b[0m",
      "\u001b[1;31mValueError\u001b[0m                                Traceback (most recent call last)",
      "Cell \u001b[1;32mIn[19], line 1\u001b[0m\n\u001b[1;32m----> 1\u001b[0m feature_batch \u001b[38;5;241m=\u001b[39m \u001b[43mfeature_extractor_layer\u001b[49m\u001b[43m(\u001b[49m\u001b[43mframe_train\u001b[49m\u001b[43m[\u001b[49m\u001b[38;5;241;43m0\u001b[39;49m\u001b[43m]\u001b[49m\u001b[43m[\u001b[49m\u001b[38;5;241;43m0\u001b[39;49m\u001b[43m]\u001b[49m\u001b[43m)\u001b[49m\n\u001b[0;32m      2\u001b[0m \u001b[38;5;28mprint\u001b[39m(feature_batch\u001b[38;5;241m.\u001b[39mshape)\n",
      "File \u001b[1;32mD:\\anaconda\\envs\\irdl\\lib\\site-packages\\keras\\utils\\traceback_utils.py:70\u001b[0m, in \u001b[0;36mfilter_traceback.<locals>.error_handler\u001b[1;34m(*args, **kwargs)\u001b[0m\n\u001b[0;32m     67\u001b[0m     filtered_tb \u001b[38;5;241m=\u001b[39m _process_traceback_frames(e\u001b[38;5;241m.\u001b[39m__traceback__)\n\u001b[0;32m     68\u001b[0m     \u001b[38;5;66;03m# To get the full stack trace, call:\u001b[39;00m\n\u001b[0;32m     69\u001b[0m     \u001b[38;5;66;03m# `tf.debugging.disable_traceback_filtering()`\u001b[39;00m\n\u001b[1;32m---> 70\u001b[0m     \u001b[38;5;28;01mraise\u001b[39;00m e\u001b[38;5;241m.\u001b[39mwith_traceback(filtered_tb) \u001b[38;5;28;01mfrom\u001b[39;00m \u001b[38;5;28;01mNone\u001b[39;00m\n\u001b[0;32m     71\u001b[0m \u001b[38;5;28;01mfinally\u001b[39;00m:\n\u001b[0;32m     72\u001b[0m     \u001b[38;5;28;01mdel\u001b[39;00m filtered_tb\n",
      "File \u001b[1;32mD:\\anaconda\\envs\\irdl\\lib\\site-packages\\tensorflow_hub\\keras_layer.py:250\u001b[0m, in \u001b[0;36mKerasLayer.call\u001b[1;34m(self, inputs, training)\u001b[0m\n\u001b[0;32m    247\u001b[0m   \u001b[38;5;28;01melse\u001b[39;00m:\n\u001b[0;32m    248\u001b[0m     \u001b[38;5;66;03m# Behave like BatchNormalization. (Dropout is different, b/181839368.)\u001b[39;00m\n\u001b[0;32m    249\u001b[0m     training \u001b[38;5;241m=\u001b[39m \u001b[38;5;28;01mFalse\u001b[39;00m\n\u001b[1;32m--> 250\u001b[0m   result \u001b[38;5;241m=\u001b[39m \u001b[43msmart_cond\u001b[49m\u001b[38;5;241;43m.\u001b[39;49m\u001b[43msmart_cond\u001b[49m\u001b[43m(\u001b[49m\u001b[43mtraining\u001b[49m\u001b[43m,\u001b[49m\n\u001b[0;32m    251\u001b[0m \u001b[43m                                 \u001b[49m\u001b[38;5;28;43;01mlambda\u001b[39;49;00m\u001b[43m:\u001b[49m\u001b[43m \u001b[49m\u001b[43mf\u001b[49m\u001b[43m(\u001b[49m\u001b[43mtraining\u001b[49m\u001b[38;5;241;43m=\u001b[39;49m\u001b[38;5;28;43;01mTrue\u001b[39;49;00m\u001b[43m)\u001b[49m\u001b[43m,\u001b[49m\n\u001b[0;32m    252\u001b[0m \u001b[43m                                 \u001b[49m\u001b[38;5;28;43;01mlambda\u001b[39;49;00m\u001b[43m:\u001b[49m\u001b[43m \u001b[49m\u001b[43mf\u001b[49m\u001b[43m(\u001b[49m\u001b[43mtraining\u001b[49m\u001b[38;5;241;43m=\u001b[39;49m\u001b[38;5;28;43;01mFalse\u001b[39;49;00m\u001b[43m)\u001b[49m\u001b[43m)\u001b[49m\n\u001b[0;32m    254\u001b[0m \u001b[38;5;66;03m# Unwrap dicts returned by signatures.\u001b[39;00m\n\u001b[0;32m    255\u001b[0m \u001b[38;5;28;01mif\u001b[39;00m \u001b[38;5;28mself\u001b[39m\u001b[38;5;241m.\u001b[39m_output_key:\n",
      "File \u001b[1;32mD:\\anaconda\\envs\\irdl\\lib\\site-packages\\tensorflow_hub\\keras_layer.py:252\u001b[0m, in \u001b[0;36mKerasLayer.call.<locals>.<lambda>\u001b[1;34m()\u001b[0m\n\u001b[0;32m    247\u001b[0m   \u001b[38;5;28;01melse\u001b[39;00m:\n\u001b[0;32m    248\u001b[0m     \u001b[38;5;66;03m# Behave like BatchNormalization. (Dropout is different, b/181839368.)\u001b[39;00m\n\u001b[0;32m    249\u001b[0m     training \u001b[38;5;241m=\u001b[39m \u001b[38;5;28;01mFalse\u001b[39;00m\n\u001b[0;32m    250\u001b[0m   result \u001b[38;5;241m=\u001b[39m smart_cond\u001b[38;5;241m.\u001b[39msmart_cond(training,\n\u001b[0;32m    251\u001b[0m                                  \u001b[38;5;28;01mlambda\u001b[39;00m: f(training\u001b[38;5;241m=\u001b[39m\u001b[38;5;28;01mTrue\u001b[39;00m),\n\u001b[1;32m--> 252\u001b[0m                                  \u001b[38;5;28;01mlambda\u001b[39;00m: \u001b[43mf\u001b[49m\u001b[43m(\u001b[49m\u001b[43mtraining\u001b[49m\u001b[38;5;241;43m=\u001b[39;49m\u001b[38;5;28;43;01mFalse\u001b[39;49;00m\u001b[43m)\u001b[49m)\n\u001b[0;32m    254\u001b[0m \u001b[38;5;66;03m# Unwrap dicts returned by signatures.\u001b[39;00m\n\u001b[0;32m    255\u001b[0m \u001b[38;5;28;01mif\u001b[39;00m \u001b[38;5;28mself\u001b[39m\u001b[38;5;241m.\u001b[39m_output_key:\n",
      "\u001b[1;31mValueError\u001b[0m: Exception encountered when calling layer \"keras_layer_1\" \"                 f\"(type KerasLayer).\n\nCould not find matching concrete function to call loaded from the SavedModel. Got:\n  Positional arguments (4 total):\n    * <tf.Tensor 'inputs:0' shape=(224, 224, 3) dtype=float32>\n    * False\n    * False\n    * 0.99\n  Keyword arguments: {}\n\n Expected these arguments to match one of the following 4 option(s):\n\nOption 1:\n  Positional arguments (4 total):\n    * TensorSpec(shape=(None, 224, 224, 3), dtype=tf.float32, name='inputs')\n    * True\n    * False\n    * TensorSpec(shape=(), dtype=tf.float32, name='batch_norm_momentum')\n  Keyword arguments: {}\n\nOption 2:\n  Positional arguments (4 total):\n    * TensorSpec(shape=(None, 224, 224, 3), dtype=tf.float32, name='inputs')\n    * True\n    * True\n    * TensorSpec(shape=(), dtype=tf.float32, name='batch_norm_momentum')\n  Keyword arguments: {}\n\nOption 3:\n  Positional arguments (4 total):\n    * TensorSpec(shape=(None, 224, 224, 3), dtype=tf.float32, name='inputs')\n    * False\n    * True\n    * TensorSpec(shape=(), dtype=tf.float32, name='batch_norm_momentum')\n  Keyword arguments: {}\n\nOption 4:\n  Positional arguments (4 total):\n    * TensorSpec(shape=(None, 224, 224, 3), dtype=tf.float32, name='inputs')\n    * False\n    * False\n    * TensorSpec(shape=(), dtype=tf.float32, name='batch_norm_momentum')\n  Keyword arguments: {}\n\nCall arguments received by layer \"keras_layer_1\" \"                 f\"(type KerasLayer):\n  • inputs=tf.Tensor(shape=(224, 224, 3), dtype=float32)\n  • training=None"
     ]
    }
   ],
   "source": [
    "feature_batch = feature_extractor_layer(frame_train[0][0])\n",
    "print(feature_batch.shape)"
   ]
  },
  {
   "cell_type": "markdown",
   "id": "a7e63bd1",
   "metadata": {},
   "source": [
    "Long-term Recurrent Convolutional Network for Visual Recognition and Description"
   ]
  },
  {
   "cell_type": "code",
   "execution_count": 9,
   "id": "c387b7a3",
   "metadata": {},
   "outputs": [],
   "source": [
    "def LRCN():\n",
    "    '''\n",
    "    Function that creates the LRCN model decribed in the paper above\n",
    "    \n",
    "    Returns:\n",
    "        model: the initialized model\n",
    "    '''\n",
    "    # Layers layout\n",
    "    model = Sequential()\n",
    "    \n",
    "    # Specify input shape\n",
    "    model.add(Input(shape=(sequence_length, image_height, image_width, 3)))\n",
    "    \n",
    "    # Add the layers to the network\n",
    "    model.add(TimeDistributed(Conv2D(16, (3,3), padding='same', activation='relu')))\n",
    "    model.add(TimeDistributed(MaxPooling2D((4,4))))\n",
    "    model.add(TimeDistributed(Dropout(dropout_value)))\n",
    "    \n",
    "    model.add(TimeDistributed(Conv2D(32, (3,3), padding='same', activation='relu')))\n",
    "    model.add(TimeDistributed(MaxPooling2D((4,4))))\n",
    "    model.add(TimeDistributed(Dropout(dropout_value)))\n",
    "    \n",
    "    model.add(TimeDistributed(Conv2D(64, (3,3), padding='same', activation='relu')))\n",
    "    model.add(TimeDistributed(MaxPooling2D((2,2))))\n",
    "    model.add(TimeDistributed(Dropout(dropout_value)))\n",
    "    \n",
    "    model.add(TimeDistributed(Conv2D(64, (3,3), padding='same', activation='relu')))\n",
    "    model.add(TimeDistributed(MaxPooling2D((2,2))))\n",
    "    # Create the feature vector\n",
    "    model.add(TimeDistributed(Flatten()))\n",
    "    \n",
    "    model.add(LSTM(lstm_cells))\n",
    "    model.add(Dense(len(classes), activation='softmax'))\n",
    "    \n",
    "    model.summary()\n",
    "    \n",
    "    return model"
   ]
  },
  {
   "cell_type": "code",
   "execution_count": 10,
   "id": "7dff71ed",
   "metadata": {
    "scrolled": true
   },
   "outputs": [
    {
     "name": "stdout",
     "output_type": "stream",
     "text": [
      "Model: \"sequential\"\n",
      "_________________________________________________________________\n",
      " Layer (type)                Output Shape              Param #   \n",
      "=================================================================\n",
      " time_distributed (TimeDistr  (None, 16, 128, 128, 16)  448      \n",
      " ibuted)                                                         \n",
      "                                                                 \n",
      " time_distributed_1 (TimeDis  (None, 16, 32, 32, 16)   0         \n",
      " tributed)                                                       \n",
      "                                                                 \n",
      " time_distributed_2 (TimeDis  (None, 16, 32, 32, 16)   0         \n",
      " tributed)                                                       \n",
      "                                                                 \n",
      " time_distributed_3 (TimeDis  (None, 16, 32, 32, 32)   4640      \n",
      " tributed)                                                       \n",
      "                                                                 \n",
      " time_distributed_4 (TimeDis  (None, 16, 8, 8, 32)     0         \n",
      " tributed)                                                       \n",
      "                                                                 \n",
      " time_distributed_5 (TimeDis  (None, 16, 8, 8, 32)     0         \n",
      " tributed)                                                       \n",
      "                                                                 \n",
      " time_distributed_6 (TimeDis  (None, 16, 8, 8, 64)     18496     \n",
      " tributed)                                                       \n",
      "                                                                 \n",
      " time_distributed_7 (TimeDis  (None, 16, 4, 4, 64)     0         \n",
      " tributed)                                                       \n",
      "                                                                 \n",
      " time_distributed_8 (TimeDis  (None, 16, 4, 4, 64)     0         \n",
      " tributed)                                                       \n",
      "                                                                 \n",
      " time_distributed_9 (TimeDis  (None, 16, 4, 4, 64)     36928     \n",
      " tributed)                                                       \n",
      "                                                                 \n",
      " time_distributed_10 (TimeDi  (None, 16, 2, 2, 64)     0         \n",
      " stributed)                                                      \n",
      "                                                                 \n",
      " time_distributed_11 (TimeDi  (None, 16, 256)          0         \n",
      " stributed)                                                      \n",
      "                                                                 \n",
      " lstm (LSTM)                 (None, 128)               197120    \n",
      "                                                                 \n",
      " dense (Dense)               (None, 3)                 387       \n",
      "                                                                 \n",
      "=================================================================\n",
      "Total params: 258,019\n",
      "Trainable params: 258,019\n",
      "Non-trainable params: 0\n",
      "_________________________________________________________________\n"
     ]
    }
   ],
   "source": [
    "model = LRCN()"
   ]
  },
  {
   "cell_type": "code",
   "execution_count": 11,
   "id": "90a32f42",
   "metadata": {},
   "outputs": [
    {
     "name": "stdout",
     "output_type": "stream",
     "text": [
      "Epoch 1/70\n",
      "13/13 [==============================] - 11s 564ms/step - loss: 1.1200 - accuracy: 0.5385 - val_loss: 1.0473 - val_accuracy: 0.6429\n",
      "Epoch 2/70\n",
      "13/13 [==============================] - 5s 398ms/step - loss: 1.0660 - accuracy: 0.5385 - val_loss: 1.0792 - val_accuracy: 0.6429\n",
      "Epoch 3/70\n",
      "13/13 [==============================] - 4s 325ms/step - loss: 1.0183 - accuracy: 0.5385 - val_loss: 0.9865 - val_accuracy: 0.6429\n",
      "Epoch 4/70\n",
      "13/13 [==============================] - 4s 320ms/step - loss: 1.0195 - accuracy: 0.5385 - val_loss: 1.0023 - val_accuracy: 0.6429\n",
      "Epoch 5/70\n",
      "13/13 [==============================] - 4s 318ms/step - loss: 1.0154 - accuracy: 0.5385 - val_loss: 1.0342 - val_accuracy: 0.6429\n",
      "Epoch 6/70\n",
      "13/13 [==============================] - 4s 325ms/step - loss: 1.0132 - accuracy: 0.5385 - val_loss: 0.9873 - val_accuracy: 0.6429\n",
      "Epoch 7/70\n",
      "13/13 [==============================] - 4s 331ms/step - loss: 1.0009 - accuracy: 0.5385 - val_loss: 1.0028 - val_accuracy: 0.6429\n",
      "Epoch 8/70\n",
      "13/13 [==============================] - 4s 338ms/step - loss: 0.9831 - accuracy: 0.5385 - val_loss: 0.9623 - val_accuracy: 0.6429\n",
      "Epoch 9/70\n",
      "13/13 [==============================] - 4s 341ms/step - loss: 0.9569 - accuracy: 0.5385 - val_loss: 0.9731 - val_accuracy: 0.6429\n",
      "Epoch 10/70\n",
      "13/13 [==============================] - 4s 337ms/step - loss: 0.9156 - accuracy: 0.5577 - val_loss: 0.9700 - val_accuracy: 0.5000\n",
      "Epoch 11/70\n",
      "13/13 [==============================] - 4s 320ms/step - loss: 1.0189 - accuracy: 0.6154 - val_loss: 0.9026 - val_accuracy: 0.6429\n",
      "Epoch 12/70\n",
      "13/13 [==============================] - 4s 333ms/step - loss: 0.9300 - accuracy: 0.6538 - val_loss: 0.8996 - val_accuracy: 0.6429\n",
      "Epoch 13/70\n",
      "13/13 [==============================] - 4s 331ms/step - loss: 0.8051 - accuracy: 0.6923 - val_loss: 0.8817 - val_accuracy: 0.5714\n",
      "Epoch 14/70\n",
      "13/13 [==============================] - 4s 347ms/step - loss: 0.7526 - accuracy: 0.6923 - val_loss: 0.7722 - val_accuracy: 0.5714\n",
      "Epoch 15/70\n",
      "13/13 [==============================] - 5s 351ms/step - loss: 0.5598 - accuracy: 0.7308 - val_loss: 0.5657 - val_accuracy: 0.6429\n",
      "Epoch 16/70\n",
      "13/13 [==============================] - 5s 353ms/step - loss: 0.5976 - accuracy: 0.7500 - val_loss: 0.7892 - val_accuracy: 0.5714\n",
      "Epoch 17/70\n",
      "13/13 [==============================] - 4s 343ms/step - loss: 0.4896 - accuracy: 0.8269 - val_loss: 0.5273 - val_accuracy: 0.7857\n",
      "Epoch 18/70\n",
      "13/13 [==============================] - 4s 342ms/step - loss: 0.4055 - accuracy: 0.8654 - val_loss: 0.4591 - val_accuracy: 0.7857\n",
      "Epoch 19/70\n",
      "13/13 [==============================] - 4s 344ms/step - loss: 0.3515 - accuracy: 0.8269 - val_loss: 0.6119 - val_accuracy: 0.7143\n",
      "Epoch 20/70\n",
      "13/13 [==============================] - 4s 340ms/step - loss: 0.2599 - accuracy: 0.9038 - val_loss: 0.5691 - val_accuracy: 0.7857\n",
      "Epoch 21/70\n",
      "13/13 [==============================] - 4s 325ms/step - loss: 0.1698 - accuracy: 0.9231 - val_loss: 0.7049 - val_accuracy: 0.6429\n",
      "Epoch 22/70\n",
      "13/13 [==============================] - 4s 320ms/step - loss: 0.1025 - accuracy: 0.9808 - val_loss: 0.8137 - val_accuracy: 0.6429\n",
      "Epoch 23/70\n",
      "13/13 [==============================] - 4s 330ms/step - loss: 0.1123 - accuracy: 0.9615 - val_loss: 0.7434 - val_accuracy: 0.7143\n",
      "Epoch 24/70\n",
      "13/13 [==============================] - 4s 326ms/step - loss: 0.1909 - accuracy: 0.9615 - val_loss: 0.7474 - val_accuracy: 0.8571\n",
      "Epoch 25/70\n",
      "13/13 [==============================] - 4s 325ms/step - loss: 0.1101 - accuracy: 0.9615 - val_loss: 0.7057 - val_accuracy: 0.7857\n",
      "Epoch 26/70\n",
      "13/13 [==============================] - 4s 331ms/step - loss: 0.1722 - accuracy: 0.9038 - val_loss: 0.6840 - val_accuracy: 0.7857\n",
      "Epoch 27/70\n",
      "13/13 [==============================] - 4s 342ms/step - loss: 0.0951 - accuracy: 0.9615 - val_loss: 0.7366 - val_accuracy: 0.6429\n",
      "Epoch 28/70\n",
      "13/13 [==============================] - 4s 320ms/step - loss: 0.1447 - accuracy: 0.9615 - val_loss: 0.7046 - val_accuracy: 0.7857\n",
      "Epoch 29/70\n",
      "13/13 [==============================] - 4s 329ms/step - loss: 0.1048 - accuracy: 0.9615 - val_loss: 0.8274 - val_accuracy: 0.7857\n",
      "Epoch 30/70\n",
      "13/13 [==============================] - 4s 330ms/step - loss: 0.0864 - accuracy: 0.9423 - val_loss: 0.5910 - val_accuracy: 0.7857\n",
      "Epoch 31/70\n",
      "13/13 [==============================] - 4s 321ms/step - loss: 0.0349 - accuracy: 1.0000 - val_loss: 0.6562 - val_accuracy: 0.7857\n",
      "Epoch 32/70\n",
      "13/13 [==============================] - 4s 324ms/step - loss: 0.0207 - accuracy: 1.0000 - val_loss: 0.6452 - val_accuracy: 0.7857\n",
      "Epoch 33/70\n",
      "13/13 [==============================] - 4s 330ms/step - loss: 0.0097 - accuracy: 1.0000 - val_loss: 0.7562 - val_accuracy: 0.7857\n"
     ]
    }
   ],
   "source": [
    "early_stopping = EarlyStopping(monitor='val_loss', patience=15, mode='min',restore_best_weights=True)\n",
    "model.compile(loss='categorical_crossentropy', optimizer='Adam', metrics=['accuracy'])\n",
    "train_history = model.fit(x=frame_train, y=label_train, epochs=70, batch_size=4,\n",
    "                          shuffle=True,validation_split=0.2, callbacks=[early_stopping])"
   ]
  },
  {
   "cell_type": "code",
   "execution_count": 12,
   "id": "9dbbbf34",
   "metadata": {},
   "outputs": [
    {
     "name": "stdout",
     "output_type": "stream",
     "text": [
      "1/1 [==============================] - 1s 606ms/step - loss: 1.5638 - accuracy: 0.6087\n"
     ]
    }
   ],
   "source": [
    "eval_history=model.evaluate(frame_test,label_test)"
   ]
  },
  {
   "cell_type": "code",
   "execution_count": 13,
   "id": "27429b3e",
   "metadata": {},
   "outputs": [],
   "source": [
    "def plot_metrics(history, metric_name1, metric_name2, plot_name):\n",
    "    '''\n",
    "    Function that plots the metrics given the history of the training/validation\n",
    "    \n",
    "    Args:\n",
    "        history: object returned from training functions\n",
    "        metric_name1,metric_name1 (str): name of the metrics\n",
    "        plot_name (str): name of the plot\n",
    "    Returns:\n",
    "        None\n",
    "    '''\n",
    "    \n",
    "    metric1 = history.history[metric_name1]\n",
    "    metric2 = history.history[metric_name2]\n",
    "    \n",
    "    epochs = range(len(metric1))\n",
    "    \n",
    "    plt.plot(epochs,metric1,'blue',label=metric_name1)\n",
    "    plt.plot(epochs,metric2,'red',label=metric_name2)\n",
    "    \n",
    "    plt.title(str(plot_name))\n",
    "    plt.legend()"
   ]
  },
  {
   "cell_type": "code",
   "execution_count": 14,
   "id": "ce4b36bd",
   "metadata": {},
   "outputs": [
    {
     "data": {
      "image/png": "[encoded data removed]",
      "text/plain": [
       "<Figure size 640x480 with 1 Axes>"
      ]
     },
     "metadata": {},
     "output_type": "display_data"
    }
   ],
   "source": [
    "# Training data\n",
    "plot_metrics(train_history, 'loss', 'val_loss', 'Total loss vs Validation loss')"
   ]
  },
  {
   "cell_type": "code",
   "execution_count": 15,
   "id": "b38e016f",
   "metadata": {},
   "outputs": [
    {
     "data": {
      "image/png": "[encoded data removed]",
      "text/plain": [
       "<Figure size 640x480 with 1 Axes>"
      ]
     },
     "metadata": {},
     "output_type": "display_data"
    }
   ],
   "source": [
    "# Testingdata\n",
    "plot_metrics(train_history, 'accuracy', 'val_accuracy', 'Total accuracy vs Validation accuracy')"
   ]
  },
  {
   "cell_type": "code",
   "execution_count": 16,
   "id": "6b8001da",
   "metadata": {},
   "outputs": [],
   "source": [
    "if save_flag:\n",
    "    ev_loss, ev_acc = eval_history\n",
    "    model_filename = f'LRCN_Accuracy{ev_acc}.keras'\n",
    "    model.save(model_filename)"
   ]
  },
  {
   "cell_type": "code",
   "execution_count": 17,
   "id": "2534c2f6",
   "metadata": {},
   "outputs": [],
   "source": [
    "def get_actual_predicted_labels(): \n",
    "  \"\"\"\n",
    "    Create a list of actual ground truth values and the predictions from the model.\n",
    "\n",
    "    Args:\n",
    "      dataset: An iterable data structure, such as a TensorFlow Dataset, with features and labels.\n",
    "\n",
    "    Return:\n",
    "      Ground truth and predicted values for a particular dataset.\n",
    "  \"\"\"\n",
    "  actual = [label for label in label_test]\n",
    "  predicted = model.predict(frame_test)\n",
    "\n",
    "  actual = tf.stack(actual, axis=0)\n",
    "  actual = tf.argmax(actual, axis=1)\n",
    "  predicted = tf.concat(predicted, axis=0)\n",
    "  predicted = tf.argmax(predicted, axis=1)\n",
    "\n",
    "  return actual, predicted"
   ]
  },
  {
   "cell_type": "code",
   "execution_count": 18,
   "id": "feecda4e",
   "metadata": {},
   "outputs": [],
   "source": [
    "def plot_confusion_matrix(actual, predicted, labels, ds_type):\n",
    "  cm = tf.math.confusion_matrix(actual, predicted)\n",
    "  ax = sns.heatmap(cm, annot=True, fmt='g')\n",
    "  sns.set(rc={'figure.figsize':(12, 12)})\n",
    "  sns.set(font_scale=1.4)\n",
    "  ax.set_title('Confusion matrix of action recognition for ' + ds_type)\n",
    "  ax.set_xlabel('Predicted Action')\n",
    "  ax.set_ylabel('Actual Action')\n",
    "  plt.xticks(rotation=90)\n",
    "  plt.yticks(rotation=0)\n",
    "  ax.xaxis.set_ticklabels([0,1,2])\n",
    "  ax.yaxis.set_ticklabels([0,1,2])"
   ]
  },
  {
   "cell_type": "code",
   "execution_count": 19,
   "id": "878bde1d",
   "metadata": {},
   "outputs": [
    {
     "name": "stdout",
     "output_type": "stream",
     "text": [
      "1/1 [==============================] - 2s 2s/step\n"
     ]
    },
    {
     "data": {
      "image/png": "[encoded data removed]",
      "text/plain": [
       "<Figure size 640x480 with 2 Axes>"
      ]
     },
     "metadata": {},
     "output_type": "display_data"
    }
   ],
   "source": [
    "actual,pred = get_actual_predicted_labels()\n",
    "plot_confusion_matrix(actual, pred, label_test, 'testing')"
   ]
  },
  {
   "cell_type": "code",
   "execution_count": 20,
   "id": "97a02f44",
   "metadata": {},
   "outputs": [],
   "source": [
    "def calculate_classification_metrics(y_actual, y_pred, labels):\n",
    "  \"\"\"\n",
    "    Calculate the precision and recall of a classification model using the ground truth and\n",
    "    predicted values. \n",
    "\n",
    "    Args:\n",
    "      y_actual: Ground truth labels.\n",
    "      y_pred: Predicted labels.\n",
    "      labels: List of classification labels.\n",
    "\n",
    "    Return:\n",
    "      Precision and recall measures.\n",
    "  \"\"\"\n",
    "  cm = tf.math.confusion_matrix(y_actual, y_pred)\n",
    "  tp = np.diag(cm) # Diagonal represents true positives\n",
    "  precision = dict()\n",
    "  recall = dict()\n",
    "  for i in range(len(labels)):\n",
    "    col = cm[:, i]\n",
    "    fp = np.sum(col) - tp[i] # Sum of column minus true positive is false negative\n",
    "\n",
    "    row = cm[i, :]\n",
    "    fn = np.sum(row) - tp[i] # Sum of row minus true positive, is false negative\n",
    "    precision[labels[i]] = tp[i] / (tp[i] + fp) # Precision \n",
    "\n",
    "    recall[labels[i]] = tp[i] / (tp[i] + fn) # Recall\n",
    "\n",
    "  return precision, recall"
   ]
  },
  {
   "cell_type": "code",
   "execution_count": 21,
   "id": "ce334e9b",
   "metadata": {},
   "outputs": [],
   "source": [
    "precision, recall = calculate_classification_metrics(actual, pred, [0,1,2]) # Test dataset"
   ]
  },
  {
   "cell_type": "code",
   "execution_count": 22,
   "id": "ad168a2b",
   "metadata": {},
   "outputs": [
    {
     "data": {
      "text/plain": [
       "{0: 0.8333333333333334, 1: 0.5, 2: 0.6666666666666666}"
      ]
     },
     "execution_count": 22,
     "metadata": {},
     "output_type": "execute_result"
    }
   ],
   "source": [
    "precision"
   ]
  },
  {
   "cell_type": "code",
   "execution_count": 23,
   "id": "d83cd11c",
   "metadata": {},
   "outputs": [
    {
     "data": {
      "text/plain": [
       "{0: 0.38461538461538464, 1: 1.0, 2: 0.6666666666666666}"
      ]
     },
     "execution_count": 23,
     "metadata": {},
     "output_type": "execute_result"
    }
   ],
   "source": [
    "recall"
   ]
  }
 ],
 "metadata": {
  "kernelspec": {
   "display_name": "irdl",
   "language": "python",
   "name": "irdl"
  },
  "language_info": {
   "codemirror_mode": {
    "name": "ipython",
    "version": 3
   },
   "file_extension": ".py",
   "mimetype": "text/x-python",
   "name": "python",
   "nbconvert_exporter": "python",
   "pygments_lexer": "ipython3",
   "version": "3.10.9"
  }
 },
 "nbformat": 4,
 "nbformat_minor": 5
}
